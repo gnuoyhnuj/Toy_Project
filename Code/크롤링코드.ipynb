{
 "cells": [
  {
   "cell_type": "code",
   "execution_count": 1,
   "id": "b9842ff8",
   "metadata": {},
   "outputs": [],
   "source": [
    "import openpyxl\n",
    "import os\n",
    "import sys\n",
    "import time\n",
    "import json\n",
    "from selenium import webdriver\n",
    "from selenium.webdriver.common.keys import Keys\n",
    "from selenium.webdriver.common.by import By\n",
    "import time\n",
    "import numpy as np"
   ]
  },
  {
   "cell_type": "code",
   "execution_count": 2,
   "id": "699d5ebb",
   "metadata": {},
   "outputs": [],
   "source": [
    "import pandas as pd"
   ]
  },
  {
   "cell_type": "code",
   "execution_count": 69,
   "id": "9eff569c",
   "metadata": {},
   "outputs": [],
   "source": [
    "df = pd.read_excel(\"C:/Users/ADMIN/OneDrive/바탕 화면/토이프로젝트/맛집리스트.xlsx\")\n",
    "#df"
   ]
  },
  {
   "cell_type": "code",
   "execution_count": 5,
   "id": "c2f5fe25",
   "metadata": {},
   "outputs": [],
   "source": [
    "data = df['추천맛집'].to_list()"
   ]
  },
  {
   "cell_type": "markdown",
   "id": "f6ea7fce",
   "metadata": {},
   "source": [
    "# 1. 체인점 거르기\n",
    "- 수집한 설문 답변이 체인점인 식당도 있고, 개인식당도 존재\n",
    "- 체인점의 경우 어떤 지점이 맛집인지 정확한 구분을 위해 서울 내 평점 가장 높은 지점의 상호명으로 데이터 재수집"
   ]
  },
  {
   "cell_type": "code",
   "execution_count": 141,
   "id": "d18b7a69",
   "metadata": {
    "scrolled": true
   },
   "outputs": [
    {
     "name": "stderr",
     "output_type": "stream",
     "text": [
      "C:\\Users\\user\\AppData\\Local\\Temp\\ipykernel_22276\\1285491379.py:3: DeprecationWarning: executable_path has been deprecated, please pass in a Service object\n",
      "  driver = webdriver.Chrome(executable_path='C:/Users/user/Downloads/chromedriver_win32/chromedriver.exe')\n"
     ]
    }
   ],
   "source": [
    "options = webdriver.ChromeOptions()\n",
    "options.add_experimental_option(\"excludeSwitches\", [\"enable-logging\"])\n",
    "driver = webdriver.Chrome(executable_path='C:/Users/user/Downloads/chromedriver_win32/chromedriver.exe')"
   ]
  },
  {
   "cell_type": "code",
   "execution_count": 142,
   "id": "58620477",
   "metadata": {
    "scrolled": true
   },
   "outputs": [],
   "source": [
    "체인_list = []\n",
    "평점_list = []\n",
    "체인_평점 = []\n",
    "체인_최종 = []\n",
    "식당_list = []\n",
    "검색x_네이버 = []\n",
    "체인x_list = []\n",
    "\n",
    "for data in data :\n",
    "    \n",
    "    time.sleep(2)\n",
    "        \n",
    "        #음식점 상호명 + 서울음식점\n",
    "    driver.get(f\"https://m.map.naver.com/search2/search.naver?query={data}서울음식점&sm=hty&style=v5\")\n",
    "        #dirver.implicitly_wait(time_to_wait=3)\n",
    "        \n",
    "    # 차단막는 코드, 랜덤으로 time.sleep 지정\n",
    "    seed = np.random.randint(100)\n",
    "    np.random.seed(seed)\n",
    "    a = np.random.randint(2)\n",
    "    time.sleep(a)\n",
    "\n",
    "    for i in range(5) :\n",
    "        driver.execute_script('scrollBy(0,2000)')\n",
    "        time.sleep(1)\n",
    "    \n",
    "    elements = driver.find_elements(By.XPATH, '//*[@id=\"ct\"]/div[2]/ul/li')\n",
    "    \n",
    "    if len(elements) > 1:\n",
    "        for i,name in enumerate(elements) :\n",
    "            el_name = elements[i].find_element(By.CSS_SELECTOR, f'#ct > div.search_listview._content._ctList > ul > li:nth-child({i+1}) > div.item_info > a.a_item.a_item_distance._linkSiteview > div > strong').text\n",
    "            try :\n",
    "                if '점' in el_name and data == el_name.split()[0]:\n",
    "                    체인_list.append(el_name)\n",
    "                elif '점' not in el_name and data == el_name :\n",
    "                    체인x_list.append(el_name)\n",
    "\n",
    "            except Exception :\n",
    "                pass\n",
    "            \n",
    "            \n",
    "        if len(체인_list) != 0 :\n",
    "            for name in 체인_list :\n",
    "                try :\n",
    "                    driver.get(f\"https://m.map.naver.com/search2/search.naver?query={name}&sm=hty&style=v5\")\n",
    "                    time.sleep(2)\n",
    "                    driver.find_element(By.XPATH, '//*[@id=\"ct\"]/div[2]/ul/li/div[1]/a/div').click()\n",
    "                    time.sleep(2)\n",
    "                    평점_list.append(driver.find_element(By.XPATH, '//*[@id=\"app-root\"]/div/div/div/div[2]/div[1]/div[2]/span[1]/em').text)\n",
    "                    time.sleep(1)\n",
    "                    식당_list.append(name)\n",
    "\n",
    "                except Exception :\n",
    "                    pass\n",
    "            try : \n",
    "                체인_평점.append(max(평점_list))\n",
    "                idx = 평점_list.index(max(평점_list))\n",
    "                체인_최종.append(식당_list[idx])\n",
    "                time.sleep(1)\n",
    "                평점_list = []\n",
    "                식당_list = []\n",
    "                체인_list = []\n",
    "            \n",
    "            except Exception :\n",
    "                평점_list = []\n",
    "                식당_list = []\n",
    "                체인_list = []\n",
    "                pass\n",
    "        \n",
    "        else :\n",
    "            pass\n",
    "\n",
    "    elif len(elements) == 1 :\n",
    "        체인x_list.append(data)\n",
    "      \n",
    "    else :\n",
    "        검색x_네이버.append(data)\n",
    "        pass\n",
    "    \n",
    "\n",
    " #맨 마지막에 drop_duplicates 사용해서 중복 제거하기    "
   ]
  },
  {
   "cell_type": "code",
   "execution_count": 151,
   "id": "ffcbbbf3",
   "metadata": {},
   "outputs": [],
   "source": [
    "#데이터 셋 구축\n",
    "\n",
    "#체인X_list 중복제거 후 데이터 프레임 생성\n",
    "체인x = pd.DataFrame(체인x_list).rename(columns={0 : '음식점명'}).drop_duplicates(subset='음식점명', keep='first').reset_index().drop(columns='index')\n",
    "\n",
    "#체인 맛집 데이터 프레임 생성\n",
    "#추천 맛집 컬럼 : 추후 기존의 df 데이터 프레임과 join을 수행하기 위해 새롭게 생성\n",
    "체인o = pd.DataFrame(체인_최종).rename(columns={0:'음식점명'}).reset_index().drop(columns='index')\n",
    "음식점명2 = 체인o['음식점명'].str.split(' ')\n",
    "체인o['추천맛집'] = 음식점명2.str[0]\n",
    "\n",
    "#oo서울음식점으로 검색이 불가능한 데이터\n",
    "검색x_네이버 = pd.DataFrame(검색x_네이버).rename(columns={0:'음식점명'}).reset_index().drop(columns='index')\n",
    "\n",
    "#위 3개의 데이터 프레임 결합 \n",
    "df_최종 = pd.concat([체인x, 체인o, 검색x_네이버], axis=0).reset_index().drop(columns='index')\n",
    "#추천 맛집 컬럼 결측치 처리 : 음식점명으로 대치\n",
    "df_최종['추천맛집'].fillna(df_최종['음식점명'], inplace=True)\n",
    "df_최종.drop_duplicates(subset=['추천맛집'], keep='last', inplace=True)\n",
    "\n",
    "\n",
    "#df_최종 & 기존의 df 데이터 셋 '추천 맛집' 컬럼을 기준으로 join\n",
    "df_최종 = pd.merge(df_최종, df, how='left', on='추천맛집').drop(columns='추천맛집')\n",
    "\n",
    "#엑셀로 내보내기\n",
    "df_최종.to_excel(\"C:/Users/user/Downloads/맛집리스트_v0.2.xlsx\", index=False, encoding='utf-8')"
   ]
  },
  {
   "cell_type": "markdown",
   "id": "bedc892e",
   "metadata": {},
   "source": [
    "# 2. 네이버지도 모바일 크롤링\n",
    "- 리뷰, 평점, 키워드 리뷰 모두 네이버맵에서 크롤링"
   ]
  },
  {
   "cell_type": "code",
   "execution_count": null,
   "id": "1d01ae7d",
   "metadata": {},
   "outputs": [],
   "source": [
    "df = pd.read_csv('C:/Users/user/Downloads/맛집리스트_v0.2.xlsx')\n",
    "data = df['추천맛집'].to_list()"
   ]
  },
  {
   "cell_type": "code",
   "execution_count": 58,
   "id": "ccf1c6a1",
   "metadata": {},
   "outputs": [
    {
     "name": "stderr",
     "output_type": "stream",
     "text": [
      "C:\\Users\\ADMIN\\AppData\\Local\\Temp\\ipykernel_3812\\1392209137.py:4: DeprecationWarning: executable_path has been deprecated, please pass in a Service object\n",
      "  driver = webdriver.Chrome(executable_path='C:/Users/ADMIN/OneDrive/바탕 화면/chromedriver_win32/chromedriver.exe') #404 not found 오류 방지\n"
     ]
    }
   ],
   "source": [
    "# 드라이버 실행\n",
    "options = webdriver.ChromeOptions()\n",
    "options.add_experimental_option(\"excludeSwitches\", [\"enable-logging\"])\n",
    "driver = webdriver.Chrome(executable_path='C:/Users/ADMIN/OneDrive/바탕 화면/chromedriver_win32/chromedriver.exe') #404 not found 오류 방지 "
   ]
  },
  {
   "cell_type": "code",
   "execution_count": 59,
   "id": "4ad5920c",
   "metadata": {},
   "outputs": [],
   "source": [
    "검색불가_네이버 = []\n",
    "평점_네이버 = []\n",
    "식당명_네이버 = []\n",
    "식당별_키워드_네이버 = []\n",
    "음식점_카테고리 = []\n",
    "\n",
    "for i in data:\n",
    "    driver.get(f\"https://m.map.naver.com/search2/search.naver?query={i}&sm=hty&style=v5\")\n",
    "    driver.implicitly_wait(time_to_wait=3)\n",
    "    \n",
    "    # 검색결과 조건문\n",
    "    try:\n",
    "        # 상세페이지 진입\n",
    "        driver.implicitly_wait(time_to_wait=2)\n",
    "        driver.find_element(By.XPATH, '//*[@id=\"ct\"]/div[2]/ul/li[1]/div[1]/a/div/strong').click()\n",
    "        time.sleep(3)\n",
    "        \n",
    "        # 식당명 저장\n",
    "        식당명_네이버.append(i)\n",
    "        time.sleep(3)\n",
    "\n",
    "        # 평점 없는 경우의 조건문\n",
    "        try:\n",
    "            평점_네이버.append(driver.find_element(By.XPATH, '//*[@id=\"app-root\"]/div/div/div/div[2]/div[1]/div[2]/span[1]/em').text)\n",
    "            time.sleep(2)\n",
    "\n",
    "        except Exception:\n",
    "            평점_네이버.append('x')\n",
    "            time.sleep(2)\n",
    "            pass\n",
    "        \n",
    "        #음식점 카테고리\n",
    "        음식점_카테고리.append(driver.find_element(By.XPATH, '//*[@id=\"_title\"]/span[2]').text)\n",
    "        time.sleep(2)\n",
    "        \n",
    "         # '사진' 클릭\n",
    "        사진_index = driver.find_element(By.XPATH, '//*[@id=\"app-root\"]/div/div/div/div[5]/div/div/div/div').text.split(' ').index('사진') + 1   \n",
    "        driver.find_element(By.XPATH, f'//*[@id=\"app-root\"]/div/div/div/div[5]/div/div/div/div/a[{사진_index}]/span').click() \n",
    "        driver.implicitly_wait(time_to_wait=5)\n",
    "        \n",
    "        # 내부사진 파일 저장\n",
    "        내부_index = driver.find_element(By.XPATH, '//*[@id=\"app-root\"]/div/div/div/div[7]/div[2]/div/div/div/div').text.split('\\n').index('내부')+1 # 내부 클릭\n",
    "        driver.find_element(By.XPATH, f'//*[@id=\"app-root\"]/div/div/div/div[7]/div[2]/div/div/div/div/div[{내부_index}]/a').click()\n",
    "        time.sleep(2)\n",
    "        내부_url = driver.find_element(By.XPATH, '//*[@id=\"내부_0\"]').get_attribute('src')    # scr속성이 url링크\n",
    "        urllib.request.urlretrieve(내부_url, f\"C:/Users/Juns/Desktop/크롤링 이미지/{i}_내부사진.png\")    # 기존에 만둘어둔 폴더 경로에 저장\n",
    "        \n",
    "        # 대표음식사진 파일 저장\n",
    "        음식_index = driver.find_element(By.XPATH, '//*[@id=\"app-root\"]/div/div/div/div[7]/div[2]/div/div/div/div').text.split('\\n').index('방문자사진')+1\n",
    "        driver.find_element(By.XPATH, f'//*[@id=\"app-root\"]/div/div/div/div[7]/div[2]/div/div/div/div/div[{음식_index}]/a').click()\n",
    "        time.sleep(2)\n",
    "        음식_url = driver.find_element(By.XPATH, '//*[@id=\"visitor_0\"]').get_attribute('src')   \n",
    "        urllib.request.urlretrieve(음식_url, f\"C:/Users/Juns/Desktop/크롤링 이미지/{i}_대표음식.png\")  \n",
    "        \n",
    "        # '리뷰' 클릭\n",
    "        리뷰_index = driver.find_element(By.XPATH, '//*[@id=\"app-root\"]/div/div/div/div[5]/div/div/div/div').text.split(' ').index('리뷰') + 1    # '리뷰'인덱스 추출\n",
    "        driver.find_element(By.XPATH, f'//*[@id=\"app-root\"]/div/div/div/div[5]/div/div/div/div/a[{리뷰_index}]/span').click()   # 인덱스번호는 0부터 시작하기 때문에 +1\n",
    "        driver.implicitly_wait(time_to_wait=5)\n",
    "        driver.find_element(By.XPATH, f'//*[@id=\"app-root\"]/div/div/div/div[5]/div/div/div/div/a[{리뷰_index}]/span').click()   # 한번에 안눌리는 경우로인해 두번 클릭\n",
    "        time.sleep(3)\n",
    "        \n",
    "        try:\n",
    "            # 키워드 저장\n",
    "            키워드_네이버 = []    # 키워드 리스트는 데이터프레임 저장을 위해 계속 갱신되어야함\n",
    "            for z in range(1,6):\n",
    "                time.sleep(1)\n",
    "                키워드_네이버.append(driver.find_element(By.XPATH, f'//*[@id=\"app-root\"]/div/div/div/div[7]/div[2]/div[1]/div/div/div[2]/ul/li[{z}]/div[2]/span[1]').text)\n",
    "            식당별_키워드_네이버.append(키워드_네이버)  \n",
    "        \n",
    "        except Exception :\n",
    "            식당별_키워드_네이버.append('x')\n",
    "            time.sleep(1)\n",
    "        \n",
    "    \n",
    "    # 에외처리 (검색불가)        \n",
    "    except Exception:\n",
    "        검색불가_네이버.append(i)\n",
    "        driver.switch_to.window(driver.window_handles[0]);\n",
    "        pass\n",
    "    \n",
    "driver.close()"
   ]
  },
  {
   "cell_type": "code",
   "execution_count": 60,
   "id": "1a9b2e95",
   "metadata": {},
   "outputs": [
    {
     "data": {
      "text/plain": [
       "109"
      ]
     },
     "execution_count": 60,
     "metadata": {},
     "output_type": "execute_result"
    }
   ],
   "source": [
    "len(식당명_네이버)"
   ]
  },
  {
   "cell_type": "code",
   "execution_count": 61,
   "id": "e9bfb7bb",
   "metadata": {},
   "outputs": [
    {
     "data": {
      "text/plain": [
       "109"
      ]
     },
     "execution_count": 61,
     "metadata": {},
     "output_type": "execute_result"
    }
   ],
   "source": [
    "len(평점_네이버)"
   ]
  },
  {
   "cell_type": "code",
   "execution_count": 63,
   "id": "906390cf",
   "metadata": {},
   "outputs": [
    {
     "data": {
      "text/plain": [
       "109"
      ]
     },
     "execution_count": 63,
     "metadata": {},
     "output_type": "execute_result"
    }
   ],
   "source": [
    "len(식당별_키워드_네이버)"
   ]
  },
  {
   "cell_type": "code",
   "execution_count": 65,
   "id": "ad6dfd25",
   "metadata": {},
   "outputs": [
    {
     "data": {
      "text/plain": [
       "[]"
      ]
     },
     "execution_count": 65,
     "metadata": {},
     "output_type": "execute_result"
    }
   ],
   "source": [
    "검색불가_네이버"
   ]
  },
  {
   "cell_type": "code",
   "execution_count": 2,
   "id": "8fc29728",
   "metadata": {},
   "outputs": [],
   "source": [
    "columns=['키워드1','키워드2','키워드3','키워드4','키워드5']\n",
    "맛집_list = pd.DataFrame(식당별_키워드_네이버, index=식당명_네이버, columns=columns)\n",
    "맛집_list['평점_네이버'] = 평점_네이버 \n",
    "맛집_list"
   ]
  },
  {
   "cell_type": "code",
   "execution_count": 1,
   "id": "6b6c1829",
   "metadata": {},
   "outputs": [],
   "source": [
    "맛집_list = pd.DataFrame(맛집_list).reset_index().rename(columns={'index' : '음식점명'})\n",
    "맛집_list"
   ]
  },
  {
   "cell_type": "code",
   "execution_count": 68,
   "id": "28b5eae7",
   "metadata": {},
   "outputs": [],
   "source": [
    "맛집_list.to_excel(\"C:/Users/ADMIN/OneDrive/바탕 화면/토이프로젝트/맛집리스트_v0.3.xlsx\", index=False, encoding='utf-8')"
   ]
  }
 ],
 "metadata": {
  "kernelspec": {
   "display_name": "Python 3 (ipykernel)",
   "language": "python",
   "name": "python3"
  },
  "language_info": {
   "codemirror_mode": {
    "name": "ipython",
    "version": 3
   },
   "file_extension": ".py",
   "mimetype": "text/x-python",
   "name": "python",
   "nbconvert_exporter": "python",
   "pygments_lexer": "ipython3",
   "version": "3.9.13"
  },
  "toc": {
   "base_numbering": 1,
   "nav_menu": {},
   "number_sections": true,
   "sideBar": true,
   "skip_h1_title": false,
   "title_cell": "Table of Contents",
   "title_sidebar": "Contents",
   "toc_cell": false,
   "toc_position": {},
   "toc_section_display": true,
   "toc_window_display": false
  },
  "toc-autonumbering": false
 },
 "nbformat": 4,
 "nbformat_minor": 5
}
